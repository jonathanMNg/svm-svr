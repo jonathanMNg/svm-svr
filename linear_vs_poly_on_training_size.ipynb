{
 "cells": [
  {
   "cell_type": "code",
   "execution_count": 130,
   "metadata": {},
   "outputs": [],
   "source": [
    "def get_acc_grow(svm_acc_grow):\n",
    "    if(svm_acc_grow == 0):\n",
    "        return 999\n",
    "    else:\n",
    "        return svm_acc_grow"
   ]
  },
  {
   "cell_type": "code",
   "execution_count": null,
   "metadata": {},
   "outputs": [],
   "source": [
    "import numpy as np\n",
    "import statistics\n",
    "import matplotlib.pyplot as plt\n",
    "from sklearn import datasets, svm\n",
    "from generate_dataset import *\n",
    "\n",
    "n_samples = 10\n",
    "\n",
    "samples_per_n = 100\n",
    "\n",
    "testing_size = 500\n",
    "\n",
    "\n",
    "x_start = -10\n",
    "x_end = 10\n",
    "y_start = -10\n",
    "y_end = 10\n",
    "margin = 1\n",
    "\n",
    "svm_kernel = []\n",
    "for kernel in (('linear', 'poly')):\n",
    "    testing_data, testing_models = make_poly(testing_size, x_start, x_end, y_start, y_end, margin)\n",
    "    svm_data = []\n",
    "    svm_acc_grow = 0\n",
    "    for i in range(1, 11):\n",
    "        training_size = i * n_samples\n",
    "        svm_samples = []\n",
    "        for __ in range(samples_per_n):\n",
    "            # 1. Generate train set with at least 1 of each class\n",
    "            train_set = []\n",
    "            train_labels = []\n",
    "            while list(train_labels).count(1) < 1 or list(train_labels).count(-1) < 1:\n",
    "                training_data, training_models = map(\n",
    "                    np.array,\n",
    "                    make_poly(training_size, x_start, x_end, y_start, y_end, margin)\n",
    "                )\n",
    "\n",
    "            clf = svm.SVC(kernel=kernel, C=1.0)\n",
    "\n",
    "            #fit data\n",
    "            svm_results = clf.fit(training_data, training_models).predict(testing_data)\n",
    "            #get the results model\n",
    "            svm_acc = sum(1 if x == y else 0 for x, y in zip(svm_results, testing_models))\n",
    "            svm_acc /= len(testing_data)\n",
    "            svm_samples.append(svm_acc)\n",
    "        svm_avg = (statistics.mean(svm_samples)) * 100\n",
    "        svm_std = statistics.pstdev(svm_samples) * 100\n",
    "        svm_data.append([training_size, svm_avg, svm_std, kernel])\n",
    "        svm_acc_grow = statistics.mean(svm_samples)\n",
    "    svm_kernel.append(svm_data)"
   ]
  },
  {
   "cell_type": "code",
   "execution_count": null,
   "metadata": {},
   "outputs": [],
   "source": [
    "for svm_data in svm_kernel:\n",
    "    svm_data.pop(0)\n",
    "    # Same as above but with standard deviation\n",
    "    plt.figure()\n",
    "    plt.title('Test Accuracy Avg Grow vs Train size for SVM on {kernel} kernel'.format(kernel=svm_data[0][3]))\n",
    "    plt.xlabel('Train size N')\n",
    "    plt.ylabel('Testing accuracy %')\n",
    "    std = []\n",
    "    std_uncertainty = []\n",
    "    for point in svm_data:\n",
    "        std.append(point[1])\n",
    "        std_uncertainty.append(point[2])\n",
    "    plt.grid(True)\n",
    "    # Perceptron data in red\n",
    "    plt.errorbar(\n",
    "        [point[0] for point in svm_data],\n",
    "        [point[1] for point in svm_data],\n",
    "        [point[2] for point in svm_data],\n",
    "        ecolor='r',\n",
    "        marker='^'\n",
    "    )\n",
    "\n",
    "\n",
    "    plt.show()\n",
    "\n"
   ]
  },
  {
   "cell_type": "code",
   "execution_count": null,
   "metadata": {},
   "outputs": [],
   "source": []
  }
 ],
 "metadata": {
  "kernelspec": {
   "display_name": "my-virtualenv-name",
   "language": "python",
   "name": "my-virtualenv-name"
  },
  "language_info": {
   "codemirror_mode": {
    "name": "ipython",
    "version": 3
   },
   "file_extension": ".py",
   "mimetype": "text/x-python",
   "name": "python",
   "nbconvert_exporter": "python",
   "pygments_lexer": "ipython3",
   "version": "3.6.3"
  }
 },
 "nbformat": 4,
 "nbformat_minor": 2
}
